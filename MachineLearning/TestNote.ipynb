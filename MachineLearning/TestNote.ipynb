{
 "cells": [
  {
   "cell_type": "code",
   "execution_count": 1,
   "metadata": {
    "collapsed": true,
    "pycharm": {
     "name": "#%%\n"
    }
   },
   "outputs": [
    {
     "name": "stdout",
     "output_type": "stream",
     "text": [
      "hello world\n"
     ]
    }
   ],
   "source": [
    "print('hello world')"
   ]
  },
  {
   "cell_type": "code",
   "execution_count": 2,
   "outputs": [
    {
     "data": {
      "text/plain": "True"
     },
     "execution_count": 2,
     "metadata": {},
     "output_type": "execute_result"
    }
   ],
   "source": [
    "import torch\n",
    "torch.cuda.is_available()"
   ],
   "metadata": {
    "collapsed": false,
    "pycharm": {
     "name": "#%%\n"
    }
   }
  },
  {
   "cell_type": "code",
   "execution_count": 4,
   "outputs": [
    {
     "name": "stdout",
     "output_type": "stream",
     "text": [
      "[[ 6.28604352  0.69802181]\n",
      " [-8.3476666  -8.39086225]\n",
      " [-8.75024772 -9.85934372]\n",
      " ...\n",
      " [-9.14996813 -8.18833958]\n",
      " [ 4.39132067  2.77751795]\n",
      " [-6.59860691 -9.60931531]]\n"
     ]
    }
   ],
   "source": [
    "from sklearn.datasets import make_blobs\n",
    "X, Y = make_blobs(n_samples=1000, n_features=2, centers=5)\n",
    "# set(Y)\n",
    "# print(X)"
   ],
   "metadata": {
    "collapsed": false,
    "pycharm": {
     "name": "#%%\n"
    }
   }
  },
  {
   "cell_type": "code",
   "execution_count": 10,
   "outputs": [
    {
     "data": {
      "text/plain": "0"
     },
     "execution_count": 10,
     "metadata": {},
     "output_type": "execute_result"
    }
   ],
   "source": [
    "import numpy as np\n",
    "a = np.array([0, 1, 2, 3])\n",
    "b = np.random.choice(a)\n",
    "b\n"
   ],
   "metadata": {
    "collapsed": false,
    "pycharm": {
     "name": "#%%\n"
    }
   }
  },
  {
   "cell_type": "code",
   "execution_count": 15,
   "outputs": [
    {
     "data": {
      "text/plain": "[2, 0]"
     },
     "execution_count": 15,
     "metadata": {},
     "output_type": "execute_result"
    }
   ],
   "source": [
    "import queue\n",
    "q = queue.Queue()\n",
    "q.put([1, 0])\n",
    "q.put([2, 0])\n",
    "q.put([3, 0])\n",
    "q.put([4, 0])\n",
    "q.get()\n",
    "q.get()\n"
   ],
   "metadata": {
    "collapsed": false,
    "pycharm": {
     "name": "#%%\n"
    }
   }
  },
  {
   "cell_type": "code",
   "execution_count": 18,
   "outputs": [
    {
     "data": {
      "text/plain": "2.8284271247461903"
     },
     "execution_count": 18,
     "metadata": {},
     "output_type": "execute_result"
    }
   ],
   "source": [
    "from clustering.K_means import distance\n",
    "import numpy as np\n",
    "\n",
    "d = distance(np.array([1, 2]), np.array([3, 4]))\n",
    "d"
   ],
   "metadata": {
    "collapsed": false,
    "pycharm": {
     "name": "#%%\n"
    }
   }
  },
  {
   "cell_type": "code",
   "execution_count": 7,
   "outputs": [
    {
     "name": "stdout",
     "output_type": "stream",
     "text": [
      "5\n",
      "2\n",
      "4\n",
      "6\n",
      "7\n",
      "1\n",
      "3\n"
     ]
    }
   ],
   "source": [
    "import numpy as np\n",
    "a = [1, 2, 3, 4, 5, 6, 7]\n",
    "b = a[:]\n",
    "b[0] = 5\n",
    "a\n",
    "for i in range(7):\n",
    "    index = np.random.choice(a,replace=False)\n",
    "    print(index)"
   ],
   "metadata": {
    "collapsed": false,
    "pycharm": {
     "name": "#%%\n"
    }
   }
  },
  {
   "cell_type": "code",
   "execution_count": 8,
   "outputs": [
    {
     "data": {
      "text/plain": "[[1, 3], [5, 6]]"
     },
     "execution_count": 8,
     "metadata": {},
     "output_type": "execute_result"
    }
   ],
   "source": [
    "a = [[1,3],[3,4],[5,6]]\n",
    "# a = np.array(a)\n",
    "# np.delete(a,[3,4],axis=0)\n",
    "# a = np.setdiff1d(a,[[3,4]])\n",
    "# a\n",
    "index = a.index([3,4])\n",
    "a.remove([3,4])\n",
    "a"
   ],
   "metadata": {
    "collapsed": false,
    "pycharm": {
     "name": "#%%\n"
    }
   }
  },
  {
   "cell_type": "code",
   "execution_count": 9,
   "outputs": [
    {
     "name": "stdout",
     "output_type": "stream",
     "text": [
      "[[1 2 3]\n",
      " [3 4 5]\n",
      " [4 5 6]]\n",
      "[[1 2 3]\n",
      " [3 4 5]]\n",
      "[[4 5 6]]\n"
     ]
    }
   ],
   "source": [
    "import numpy as np\n",
    "a1 = np.asarray([[1,2,3],[3,4,5],[4,5,6]])\n",
    "a2 = np.asarray([[1,2,3], [3,4,5]])\n",
    "print(a1)\n",
    "print(a2)\n",
    "a1_rows = a1.view([('', a1.dtype)] * a1.shape[1])\n",
    "a2_rows = a2.view([('', a2.dtype)] * a2.shape[1])\n",
    "\n",
    "print(np.setdiff1d(a1_rows, a2_rows).view(a1.dtype).reshape(-1, a1.shape[1]))"
   ],
   "metadata": {
    "collapsed": false,
    "pycharm": {
     "name": "#%%\n"
    }
   }
  },
  {
   "cell_type": "code",
   "execution_count": 10,
   "outputs": [
    {
     "data": {
      "text/plain": "list"
     },
     "execution_count": 10,
     "metadata": {},
     "output_type": "execute_result"
    }
   ],
   "source": [
    "a = np.array([[1, 2],[2,3],[3,4]])\n",
    "b = np.array([[1,2],[2,3]])\n",
    "np.ediff1d(a)\n",
    "a = a.tolist()\n",
    "type(a)"
   ],
   "metadata": {
    "collapsed": false,
    "pycharm": {
     "name": "#%%\n"
    }
   }
  },
  {
   "cell_type": "code",
   "execution_count": 11,
   "outputs": [
    {
     "ename": "TypeError",
     "evalue": "unhashable type: 'list'",
     "output_type": "error",
     "traceback": [
      "\u001B[1;31m---------------------------------------------------------------------------\u001B[0m",
      "\u001B[1;31mTypeError\u001B[0m                                 Traceback (most recent call last)",
      "\u001B[1;32m~\\AppData\\Local\\Temp/ipykernel_15508/918087833.py\u001B[0m in \u001B[0;36m<module>\u001B[1;34m\u001B[0m\n\u001B[0;32m     18\u001B[0m \u001B[1;31m# res = get_intersect(A,B)\u001B[0m\u001B[1;33m\u001B[0m\u001B[1;33m\u001B[0m\u001B[1;33m\u001B[0m\u001B[0m\n\u001B[0;32m     19\u001B[0m \u001B[1;31m# print(res)\u001B[0m\u001B[1;33m\u001B[0m\u001B[1;33m\u001B[0m\u001B[1;33m\u001B[0m\u001B[0m\n\u001B[1;32m---> 20\u001B[1;33m \u001B[0mA\u001B[0m \u001B[1;33m=\u001B[0m \u001B[0mset\u001B[0m\u001B[1;33m(\u001B[0m\u001B[0mA\u001B[0m\u001B[1;33m)\u001B[0m\u001B[1;33m\u001B[0m\u001B[1;33m\u001B[0m\u001B[0m\n\u001B[0m\u001B[0;32m     21\u001B[0m \u001B[0mA\u001B[0m \u001B[1;33m=\u001B[0m \u001B[0mlist\u001B[0m\u001B[1;33m(\u001B[0m\u001B[0mA\u001B[0m\u001B[1;33m)\u001B[0m\u001B[1;33m\u001B[0m\u001B[1;33m\u001B[0m\u001B[0m\n\u001B[0;32m     22\u001B[0m \u001B[0mres\u001B[0m \u001B[1;33m=\u001B[0m \u001B[0mget_diff\u001B[0m\u001B[1;33m(\u001B[0m\u001B[0mA\u001B[0m\u001B[1;33m,\u001B[0m\u001B[0mB\u001B[0m\u001B[1;33m)\u001B[0m\u001B[1;33m\u001B[0m\u001B[1;33m\u001B[0m\u001B[0m\n",
      "\u001B[1;31mTypeError\u001B[0m: unhashable type: 'list'"
     ]
    }
   ],
   "source": [
    "def get_intersect(A, B):\n",
    "    res = []\n",
    "    for a in A:\n",
    "        if a in B:\n",
    "            res.append(a)\n",
    "    return set(res)\n",
    "\n",
    "def get_diff(A, B):\n",
    "    for b in B:\n",
    "        if b in A:\n",
    "            A.remove(b)\n",
    "    return A\n",
    "\n",
    "A = [[1, 2],[2,3],[3,4],[1, 2],[2,3],[3,4],[1, 2],[2,3],[3,4]]\n",
    "B = [[1,2],[2,3]]\n",
    "# # A = np.array(A)\n",
    "# # B = np.array(B)\n",
    "# res = get_intersect(A,B)\n",
    "# print(res)\n",
    "A = set(A)\n",
    "A = list(A)\n",
    "res = get_diff(A,B)\n",
    "print(res)"
   ],
   "metadata": {
    "collapsed": false,
    "pycharm": {
     "name": "#%%\n"
    }
   }
  },
  {
   "cell_type": "code",
   "execution_count": 15,
   "outputs": [
    {
     "name": "stdout",
     "output_type": "stream",
     "text": [
      "0\n",
      "1\n",
      "2\n",
      "3\n",
      "4\n",
      "1\n",
      "2\n",
      "3\n",
      "4\n",
      "2\n",
      "3\n",
      "4\n",
      "3\n",
      "4\n",
      "4\n"
     ]
    }
   ],
   "source": [
    "import numpy as np\n",
    "X = np.array([[1,2],[2,3],[3,4]])\n",
    "Y = np.array([[0,2],[2,4],[3,3]])\n",
    "\n",
    "\n",
    "for i in range(5):\n",
    "    for j in range(i, 5):\n",
    "        print(j)"
   ],
   "metadata": {
    "collapsed": false,
    "pycharm": {
     "name": "#%%\n"
    }
   }
  },
  {
   "cell_type": "code",
   "execution_count": 3,
   "outputs": [
    {
     "name": "stdout",
     "output_type": "stream",
     "text": [
      "[array([], dtype=float64), array([], dtype=float64), array([], dtype=float64), array([], dtype=float64), array([], dtype=float64), array([], dtype=float64), array([], dtype=float64), array([], dtype=float64), array([], dtype=float64), array([], dtype=float64)]\n",
      "[array([0., 1.]), array([1., 2.]), array([2., 3.]), array([3., 4.]), array([4., 5.]), array([5., 6.]), array([6., 7.]), array([7., 8.]), array([8., 9.]), array([ 9., 10.])]\n"
     ]
    }
   ],
   "source": [
    "import numpy as np\n",
    "C = [np.array([]) for i in range(10)]\n",
    "print(C)\n",
    "for i in range(len(C)):\n",
    "    C[i] = np.append(C[i], [i, i+1])\n",
    "print(C)"
   ],
   "metadata": {
    "collapsed": false,
    "pycharm": {
     "name": "#%%\n"
    }
   }
  },
  {
   "cell_type": "code",
   "execution_count": 4,
   "outputs": [
    {
     "data": {
      "text/plain": "True"
     },
     "execution_count": 4,
     "metadata": {},
     "output_type": "execute_result"
    }
   ],
   "source": [
    "32<float('inf')"
   ],
   "metadata": {
    "collapsed": false,
    "pycharm": {
     "name": "#%%\n"
    }
   }
  },
  {
   "cell_type": "code",
   "execution_count": 33,
   "outputs": [
    {
     "data": {
      "text/plain": "<Figure size 432x288 with 2 Axes>",
      "image/png": "[encoded data removed]"
     },
     "metadata": {
      "needs_background": "light"
     },
     "output_type": "display_data"
    }
   ],
   "source": [
    "import matplotlib.pyplot as plt\n",
    "from mpl_toolkits.mplot3d.axes3d import Axes3D\n",
    "from sklearn.datasets import make_blobs\n",
    "\n",
    "fig = plt.figure()\n",
    "ax = fig.add_subplot(211, projection='3d')\n",
    "X, Y = make_blobs(n_samples=500, n_features=3)\n",
    "ax.scatter3D(X[:, 0], X[:, 1], X[:, 2], c=Y)\n",
    "ax2 = fig.add_subplot(212)\n",
    "ax2.scatter(X[:, 0], X[:, 1], c=Y)\n",
    "fig.subplots_adjust(wspace=0.5,hspace=0.5)\n",
    "plt.show()"
   ],
   "metadata": {
    "collapsed": false,
    "pycharm": {
     "name": "#%%\n"
    }
   }
  },
  {
   "cell_type": "code",
   "execution_count": 1,
   "outputs": [
    {
     "name": "stdout",
     "output_type": "stream",
     "text": [
      "[2.5 3.5 4.5]\n"
     ]
    },
    {
     "data": {
      "text/plain": "array([[-1.5, -1.5, -1.5],\n       [ 1.5,  1.5,  1.5]])"
     },
     "execution_count": 1,
     "metadata": {},
     "output_type": "execute_result"
    }
   ],
   "source": [
    "import numpy as np\n",
    "a = np.array([[1, 2, 3], [4, 5, 6]], dtype=float)\n",
    "# print(np.cov(a))\n",
    "# print(np.cov(a[0], a[0]))\n",
    "# print(np.cov(a[0]))\n",
    "# print(np.cov(a[1]))\n",
    "# print(np.cov(a[1], a[1]))\n",
    "print(np.mean(a, axis=0))\n",
    "# for i in range(len(a)):\n",
    "#     a[i] = a[i] - np.mean(a[i])\n",
    "a = a - np.mean(a, axis=0)\n",
    "a"
   ],
   "metadata": {
    "collapsed": false,
    "pycharm": {
     "name": "#%%\n"
    }
   }
  },
  {
   "cell_type": "code",
   "execution_count": 6,
   "outputs": [
    {
     "data": {
      "text/plain": "0.9988427038208"
     },
     "execution_count": 6,
     "metadata": {},
     "output_type": "execute_result"
    }
   ],
   "source": [
    "a0 = 1\n",
    "a1 = 0.48 * (-0.00500)\n",
    "a2 = 0.48 * (-0.52) * (-0.00993) / 2\n",
    "a3 = 0.48 * (-0.52) * (-1.52) * 0.00013 / 6\n",
    "a4 = 0.48 * (-0.52) * (-1.52) * (-2.52) * 0.00012 / 24\n",
    "a0 + a1 + a2 +a3 + a4"
   ],
   "metadata": {
    "collapsed": false,
    "pycharm": {
     "name": "#%%\n"
    }
   }
  }
 ],
 "metadata": {
  "kernelspec": {
   "name": "python3",
   "language": "python",
   "display_name": "Python 3 (ipykernel)"
  },
  "language_info": {
   "codemirror_mode": {
    "name": "ipython",
    "version": 2
   },
   "file_extension": ".py",
   "mimetype": "text/x-python",
   "name": "python",
   "nbconvert_exporter": "python",
   "pygments_lexer": "ipython2",
   "version": "2.7.6"
  }
 },
 "nbformat": 4,
 "nbformat_minor": 0
}